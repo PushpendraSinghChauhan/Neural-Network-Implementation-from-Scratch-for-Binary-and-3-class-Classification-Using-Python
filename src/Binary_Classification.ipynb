{
 "cells": [
  {
   "cell_type": "code",
   "execution_count": 1,
   "metadata": {},
   "outputs": [],
   "source": [
    "import numpy as np  # import numpy library"
   ]
  },
  {
   "cell_type": "code",
   "execution_count": 2,
   "metadata": {},
   "outputs": [],
   "source": [
    "import pandas as pd\n",
    "from sklearn.preprocessing import StandardScaler\n",
    "from sklearn.model_selection import train_test_split\n",
    "import warnings\n",
    "warnings.filterwarnings('ignore')"
   ]
  },
  {
   "cell_type": "code",
   "execution_count": 3,
   "metadata": {},
   "outputs": [],
   "source": [
    "# Defining a function to load and split the data. It will return the train and test data after normalizing the features.\n",
    "def load_spam_data():\n",
    "    # Reading the data from a file named \"spambase.data\" from data folder\n",
    "    data = []\n",
    "    with open(\"../data/spambase.data\") as file_in:\n",
    "        for line in file_in:\n",
    "            row = []\n",
    "            elements = line.split(',')\n",
    "            for num in range(len(elements)):\n",
    "                if(num < (len(elements)-1)):\n",
    "                    row.append(float(elements[num]))\n",
    "                else:\n",
    "                    row.append(int(elements[num]))\n",
    "            data.append(row) \n",
    "        \n",
    "    # Extracting the feature names from a file named \"spambase.names\" from data folder\n",
    "    variable_names = []\n",
    "    with open(\"../data/spambase.names\") as file_in:\n",
    "        for line in file_in:\n",
    "            if('|' not in line and ':' in line and 'continuous' in line):\n",
    "                name = line.split(':')\n",
    "                variable_names.append(name[0])\n",
    "    variable_names.append(\"Class_label\")\n",
    "    \n",
    "    # Create the pandas DataFrame from 'data' list and 'variable_names' list \n",
    "    df = pd.DataFrame(data, columns = variable_names)\n",
    "    # Separating target variable \n",
    "    target_df = df['Class_label']\n",
    "    # Dropping the 'Class_label' column from the dataframe\n",
    "    data_df = df.drop(['Class_label'], axis=1)\n",
    "    # Splitting the data into train_data and test_data\n",
    "    X_train, X_test, Y_train, Y_test = train_test_split(data_df, target_df, test_size=0.2, random_state=0)\n",
    "    # Normalizing the features. Here we have normalized data to convert all the features to same scale\n",
    "    sc = StandardScaler()\n",
    "    X_train_standardized = sc.fit_transform(X_train)\n",
    "    X_test_standardized = sc.transform(X_test)\n",
    "    \n",
    "    # Returning the train data and test data\n",
    "    return (X_train_standardized,Y_train),(X_test_standardized,Y_test)"
   ]
  },
  {
   "cell_type": "code",
   "execution_count": 4,
   "metadata": {},
   "outputs": [
    {
     "name": "stdout",
     "output_type": "stream",
     "text": [
      "Shape of X_train :  (3080, 57)\n",
      "Shape of Y_train :  (3080,)\n",
      "Shape of X_validate :  (600, 57)\n",
      "Shape of Y_validate :  (600,)\n",
      "Shape of X_test :  (921, 57)\n",
      "Shape of Y_test :  (921,)\n"
     ]
    }
   ],
   "source": [
    "# Calling the 'load_spam_data' function\n",
    "(data_train,label_train),(X_test,Y_test) = load_spam_data()\n",
    "\n",
    "# Splitting the training data into train and validation data\n",
    "X_train = data_train[:3080]\n",
    "Y_train = label_train[:3080]\n",
    "X_validate = data_train[3080:]\n",
    "Y_validate = label_train[3080:]\n",
    "\n",
    "print(\"Shape of X_train : \",X_train.shape)\n",
    "print(\"Shape of Y_train : \",Y_train.shape)\n",
    "print(\"Shape of X_validate : \",X_validate.shape)\n",
    "print(\"Shape of Y_validate : \",Y_validate.shape)\n",
    "print(\"Shape of X_test : \",X_test.shape)\n",
    "print(\"Shape of Y_test : \",Y_test.shape)"
   ]
  },
  {
   "cell_type": "code",
   "execution_count": 5,
   "metadata": {},
   "outputs": [],
   "source": [
    "# This class includes y = W0+W1*X1+W2*X2\n",
    "class LinearLayer:\n",
    "    \"\"\"\n",
    "        This Class implements all functions to be executed by a linear layer\n",
    "        in a computational graph\n",
    "        Args:\n",
    "            input_shape: input shape of Data/Activations\n",
    "            n_out: number of neurons in layer\n",
    "            ini_type: initialization type for weight parameters, default is \"plain\"\n",
    "                      Opitons are: plain, xavier and he\n",
    "        Methods:\n",
    "            forward(A_prev)\n",
    "            backward(upstream_grad)\n",
    "            update_params(learning_rate)\n",
    "    \"\"\"\n",
    "\n",
    "    def __init__(self, input_shape, n_out):\n",
    "        \"\"\"\n",
    "        The constructor of the LinearLayer takes the following parameters\n",
    "        Args:\n",
    "            input_shape: input shape of Data/Activations\n",
    "            n_out: number of neurons in layer\n",
    "            ini_type: initialization type for weight parameters, default is \"plain\"\n",
    "        \"\"\"\n",
    "\n",
    "        self.m = input_shape[1]  # number of examples in training data\n",
    "        # `params` store weights and bias in a python dictionary\n",
    "        self.params = {'W': np.random.randn(input_shape[1], n_out), 'b': np.random.randn(n_out)}  # initialize weights and bias\n",
    "        self.Z = np.zeros((input_shape[0], n_out))  # create space for resultant Z output\n",
    "\n",
    "    def forward(self, A_prev):\n",
    "        \"\"\"\n",
    "        This function performs the forwards propagation using activations from previous layer\n",
    "        Args:\n",
    "            A_prev:  Activations/Input Data coming into the layer from previous layer\n",
    "        \"\"\"\n",
    "\n",
    "        self.A_prev = A_prev  # store the Activations/Training Data coming in\n",
    "        self.Z = np.dot( self.A_prev, self.params['W']) + self.params['b']  # compute the linear function\n",
    "\n",
    "    def backward(self, upstream_grad):\n",
    "        \"\"\"\n",
    "        This function performs the back propagation using upstream gradients\n",
    "        Args:\n",
    "            upstream_grad: gradient coming in from the upper layer to couple with local gradient\n",
    "        \"\"\"\n",
    "\n",
    "        # derivative of Cost w.r.t W\n",
    "        self.dW = np.dot(self.A_prev.T, upstream_grad)\n",
    "\n",
    "        # derivative of Cost w.r.t b, sum across rows\n",
    "        self.db = np.sum(upstream_grad, axis=0, keepdims=True)\n",
    "\n",
    "        # derivative of Cost w.r.t A_prev\n",
    "        self.dA_prev = np.dot(upstream_grad, self.params['W'].T)\n",
    "\n",
    "    def update_params(self, learning_rate=0.1):\n",
    "        \"\"\"\n",
    "        This function performs the gradient descent update\n",
    "        Args:\n",
    "            learning_rate: learning rate hyper-param for gradient descent, default 0.1\n",
    "        \"\"\"\n",
    "\n",
    "        self.params['W'] = self.params['W'] - learning_rate * self.dW  # update weights\n",
    "        self.params['b'] = self.params['b'] - learning_rate * self.db  # update bias(es)\n",
    "    "
   ]
  },
  {
   "cell_type": "code",
   "execution_count": 6,
   "metadata": {},
   "outputs": [],
   "source": [
    "class SigmoidLayer:\n",
    "    \"\"\"\n",
    "    This file implements activation layers\n",
    "    inline with a computational graph model\n",
    "    Args:\n",
    "        shape: shape of input to the layer\n",
    "    Methods:\n",
    "        forward(Z)\n",
    "        backward(upstream_grad)\n",
    "    \"\"\"\n",
    "\n",
    "    def __init__(self, shape):\n",
    "        \"\"\"\n",
    "        The consturctor of the sigmoid/logistic activation layer takes in the following arguments\n",
    "        Args:\n",
    "            shape: shape of input to the layer\n",
    "        \"\"\"\n",
    "        self.A = np.zeros(shape)  # create space for the resultant activations\n",
    "\n",
    "    def forward(self, Z):\n",
    "        \"\"\"\n",
    "        This function performs the forwards propagation step through the activation function\n",
    "        Args:\n",
    "            Z: input from previous (linear) layer\n",
    "        \"\"\"\n",
    "        self.A = 1 / (1 + np.exp(-Z))  # compute activations\n",
    "\n",
    "    def backward(self, upstream_grad):\n",
    "        \"\"\"\n",
    "        This function performs the  back propagation step through the activation function\n",
    "        Local gradient => derivative of sigmoid => A*(1-A)\n",
    "        Args:\n",
    "            upstream_grad: gradient coming into this layer from the layer above\n",
    "        \"\"\"\n",
    "        # couple upstream gradient with local gradient, the result will be sent back to the Linear layer\n",
    "        self.dZ = upstream_grad * self.A*(1-self.A)"
   ]
  },
  {
   "cell_type": "code",
   "execution_count": 21,
   "metadata": {},
   "outputs": [],
   "source": [
    "def compute_cost(Y, Y_hat):\n",
    "    \"\"\"\n",
    "    This function computes and returns the Cost and its derivative.\n",
    "    The is function uses the binary cross-entropy loss -> -(y*log(Y_hat)+(1-y)log(1-Y_hat))\n",
    "    Args:\n",
    "        Y: labels of data\n",
    "        Y_hat: Predictions(activations) from a last layer, the output layer\n",
    "    Returns:\n",
    "        cost: Binary cross-entropy loss\n",
    "        dY_hat: gradient of Cost w.r.t the Y_hat\n",
    "    \"\"\"\n",
    "\n",
    "    cost = 0\n",
    "    m = Y.shape[0]\n",
    "    #epsilon = 1\n",
    "    # Adding epsilon = 1e^-8 to Y_hat\n",
    "    Y_hat = Y_hat\n",
    "    for true, pred in zip(Y, Y_hat):\n",
    "        cost += (-(true * np.log(pred) + (1.0-true) * np.log(1.0 - pred)))\n",
    "    cost = np.squeeze(cost)/m  # remove extraneous dimensions to give just a scalar\n",
    "\n",
    "    dY_hat = 0\n",
    "    for true, pred in zip(Y, Y_hat):\n",
    "        dY_hat += (-((true/pred) - ((1.0-true)/(1.0 - pred))))\n",
    "    dY_hat = np.squeeze(dY_hat)/m\n",
    "    \n",
    "    # Gradient clipping for exploding gradient\n",
    "    while(dY_hat > 10 or dY_hat < -10):\n",
    "        dY_hat /= 10\n",
    "\n",
    "    return cost, dY_hat"
   ]
  },
  {
   "cell_type": "code",
   "execution_count": 22,
   "metadata": {},
   "outputs": [],
   "source": [
    "# Evaluation function : accuracy\n",
    "def accuracy(Y, Y_hat):\n",
    "    m = Y.shape[0]\n",
    "    true_pred_count = 0\n",
    "    for true,pred in zip(Y, Y_hat):\n",
    "        if(true == 1 and pred >= 0.5) or (true == 0 and pred < 0.5):\n",
    "            true_pred_count += 1\n",
    "            \n",
    "    return (true_pred_count/m)        "
   ]
  },
  {
   "cell_type": "markdown",
   "metadata": {},
   "source": [
    "#### Designing the network with 2 hidden layers and output layer"
   ]
  },
  {
   "cell_type": "code",
   "execution_count": 76,
   "metadata": {},
   "outputs": [],
   "source": [
    "# Our network architecture has the shape: \n",
    "#                   (input)--> [Linear->Sigmoid] -> [Linear->Sigmoid] --> [Linear->Softmax] -->(output)  \n",
    "\n",
    "#------ LAYER-1 ----- define 1st hidden layer that takes in training data \n",
    "Z1 = LinearLayer(input_shape=X_train.shape, n_out=10)\n",
    "A1 = SigmoidLayer(Z1.Z.shape)\n",
    "\n",
    "#------ LAYER-2 ----- define 2nd hidden layer that take its values from hidden layer\n",
    "Z2= LinearLayer(input_shape=A1.A.shape, n_out=10)\n",
    "A2= SigmoidLayer(Z2.Z.shape)\n",
    "\n",
    "#------ LAYER-3 ----- define output layer that take its values from hidden layer\n",
    "Z3= LinearLayer(input_shape=A2.A.shape, n_out=1)\n",
    "A3= SigmoidLayer(Z3.Z.shape)"
   ]
  },
  {
   "cell_type": "code",
   "execution_count": 77,
   "metadata": {},
   "outputs": [
    {
     "name": "stdout",
     "output_type": "stream",
     "text": [
      "Epoch#0: Train_loss = 1.76861; Train_accuracy = 0.38831; Val_loss = 1.76921; Val_accuracy = 0.39000\n",
      "Epoch#10: Train_loss = 1.72885; Train_accuracy = 0.38831; Val_loss = 1.72929; Val_accuracy = 0.39000\n",
      "Epoch#20: Train_loss = 1.69016; Train_accuracy = 0.38831; Val_loss = 1.69044; Val_accuracy = 0.39000\n",
      "Epoch#30: Train_loss = 1.65253; Train_accuracy = 0.38831; Val_loss = 1.65265; Val_accuracy = 0.39000\n",
      "Epoch#40: Train_loss = 1.61597; Train_accuracy = 0.38831; Val_loss = 1.61593; Val_accuracy = 0.39000\n",
      "Epoch#50: Train_loss = 1.58046; Train_accuracy = 0.38831; Val_loss = 1.58027; Val_accuracy = 0.39000\n",
      "Epoch#60: Train_loss = 1.35089; Train_accuracy = 0.38799; Val_loss = 1.32499; Val_accuracy = 0.39000\n",
      "Epoch#70: Train_loss = 1.11884; Train_accuracy = 0.39091; Val_loss = 1.09978; Val_accuracy = 0.39667\n",
      "Epoch#80: Train_loss = 0.96211; Train_accuracy = 0.40422; Val_loss = 0.94825; Val_accuracy = 0.41833\n",
      "Epoch#90: Train_loss = 0.85818; Train_accuracy = 0.42597; Val_loss = 0.84806; Val_accuracy = 0.43167\n",
      "Epoch#100: Train_loss = 0.78937; Train_accuracy = 0.49870; Val_loss = 0.78190; Val_accuracy = 0.49667\n",
      "Epoch#110: Train_loss = 0.74348; Train_accuracy = 0.53701; Val_loss = 0.73791; Val_accuracy = 0.54667\n",
      "Epoch#120: Train_loss = 0.71256; Train_accuracy = 0.58604; Val_loss = 0.70837; Val_accuracy = 0.59833\n",
      "Epoch#130: Train_loss = 0.69148; Train_accuracy = 0.60812; Val_loss = 0.68832; Val_accuracy = 0.62000\n",
      "Epoch#140: Train_loss = 0.67695; Train_accuracy = 0.62792; Val_loss = 0.67457; Val_accuracy = 0.61500\n",
      "Epoch#150: Train_loss = 0.66684; Train_accuracy = 0.62987; Val_loss = 0.66505; Val_accuracy = 0.61167\n",
      "Epoch#160: Train_loss = 0.65974; Train_accuracy = 0.63799; Val_loss = 0.65841; Val_accuracy = 0.62333\n",
      "Epoch#170: Train_loss = 0.65470; Train_accuracy = 0.63831; Val_loss = 0.65374; Val_accuracy = 0.62667\n",
      "Epoch#180: Train_loss = 0.65110; Train_accuracy = 0.64481; Val_loss = 0.65043; Val_accuracy = 0.63667\n",
      "Epoch#190: Train_loss = 0.64850; Train_accuracy = 0.65519; Val_loss = 0.64807; Val_accuracy = 0.64000\n",
      "Epoch#200: Train_loss = 0.64662; Train_accuracy = 0.65974; Val_loss = 0.64638; Val_accuracy = 0.64167\n"
     ]
    }
   ],
   "source": [
    "# define training constants\n",
    "learning_rate = 0.000005\n",
    "number_of_epochs = 201\n",
    "\n",
    "train_loss = []# initially empty list, this will store all the costs after a certian number of epochs\n",
    "train_accuracy = []\n",
    "val_loss = []\n",
    "val_accuracy = []\n",
    "\n",
    "# Start training\n",
    "for epoch in range(number_of_epochs):\n",
    "    \n",
    "    # ------------------------- forward-pass -------------------------\n",
    "    Z1.forward(X_train)\n",
    "    A1.forward(Z1.Z)\n",
    "    \n",
    "    Z2.forward(A1.A)\n",
    "    A2.forward(Z2.Z)\n",
    "    \n",
    "    Z3.forward(A2.A)\n",
    "    A3.forward(Z3.Z)    \n",
    "    \n",
    "    # ---------------------- Compute Cost ----------------------------\n",
    "    cost, dA3 = compute_cost(Y=Y_train, Y_hat=A3.A)\n",
    "    # Train accuracy\n",
    "    acc = accuracy(Y_train, A3.A)\n",
    "    #print(dA3)\n",
    "    \n",
    "    # ------------------------- backward-pass ----------------------------\n",
    "    A3.backward(dA3)\n",
    "\n",
    "    Z3.backward(A3.dZ)\n",
    "    \n",
    "    A2.backward(Z3.dA_prev)\n",
    "\n",
    "    Z2.backward(A2.dZ)\n",
    "\n",
    "    A1.backward(Z2.dA_prev)\n",
    "\n",
    "    Z1.backward(A1.dZ)\n",
    "    \n",
    "    # ----------------------- Update weights and bias ----------------\n",
    "    Z3.update_params(learning_rate=learning_rate)\n",
    "    Z2.update_params(learning_rate=learning_rate)\n",
    "    Z1.update_params(learning_rate=learning_rate)\n",
    "    \n",
    "    # Validation data\n",
    "    # ------------------------- forward-pass -------------------------\n",
    "    Z1.forward(X_validate)\n",
    "    A1.forward(Z1.Z)\n",
    "    \n",
    "    Z2.forward(A1.A)\n",
    "    A2.forward(Z2.Z)\n",
    "    \n",
    "    Z3.forward(A2.A)\n",
    "    A3.forward(Z3.Z)    \n",
    "    \n",
    "    # ---------------------- Compute Cost ----------------------------\n",
    "    val_cost, dA3 = compute_cost(Y=Y_validate, Y_hat=A3.A)\n",
    "    # Validation accuracy\n",
    "    val_acc = accuracy(Y_validate, A3.A)    \n",
    "    \n",
    "\n",
    "    # print and store Costs every 10 iterations.\n",
    "    if (epoch % 10) == 0:\n",
    "        #print(\"Cost at epoch#\" + str(epoch) + \": \" + str(cost))\n",
    "        \n",
    "        \n",
    "        print(\"Epoch#{0}: Train_loss = {1:.5f}; Train_accuracy = {2:.5f}; Val_loss = {3:.5f}; Val_accuracy = {4:.5f}\".format(epoch, cost,acc,val_cost,val_acc))\n",
    "        #print(dA3)\n",
    "        \n",
    "        #print(A3.A[0:10])\n",
    "        train_loss.append(cost)\n",
    "        train_accuracy.append(acc)\n",
    "        val_loss.append(val_cost)\n",
    "        val_accuracy.append(val_acc)"
   ]
  },
  {
   "cell_type": "markdown",
   "metadata": {},
   "source": [
    "#### Plot the training and validation loss as a function of epochs. Plot the training and validation accuracy as a function of epochs"
   ]
  },
  {
   "cell_type": "code",
   "execution_count": 78,
   "metadata": {},
   "outputs": [
    {
     "data": {
      "image/png": "[encoded data removed]",
      "text/plain": [
       "<Figure size 432x288 with 1 Axes>"
      ]
     },
     "metadata": {
      "needs_background": "light"
     },
     "output_type": "display_data"
    },
    {
     "data": {
      "image/png": "[encoded data removed]",
      "text/plain": [
       "<Figure size 432x288 with 1 Axes>"
      ]
     },
     "metadata": {
      "needs_background": "light"
     },
     "output_type": "display_data"
    }
   ],
   "source": [
    "import matplotlib.pyplot as plt\n",
    "\n",
    "epochs = range(0, 201, 10)\n",
    "\n",
    "# Plot loss plot \n",
    "plt.plot(epochs, train_loss, 'bo', label='Training loss')\n",
    "plt.plot(epochs, val_loss, 'b', label='Validation loss')\n",
    "plt.title('Training and Validation Loss')\n",
    "plt.xlabel('Epochs')\n",
    "plt.ylabel('Loss')\n",
    "plt.legend()\n",
    "plt.show()\n",
    "\n",
    "# Plot accuracy plot \n",
    "plt.plot(epochs, train_accuracy, 'ro', label='Training accuracy')\n",
    "plt.plot(epochs, val_accuracy, 'r', label='Validation accuracy')\n",
    "plt.title('Training and Validation accuracy')\n",
    "plt.xlabel('Epochs')\n",
    "plt.ylabel('Accuracy')\n",
    "plt.legend()\n",
    "plt.show()"
   ]
  },
  {
   "cell_type": "markdown",
   "metadata": {},
   "source": [
    "#### Evaluating on the test data :"
   ]
  },
  {
   "cell_type": "code",
   "execution_count": 79,
   "metadata": {},
   "outputs": [],
   "source": [
    "# Making predictions on test data\n",
    "# ------------------------- forward-pass -------------------------\n",
    "Z1.forward(X_test)\n",
    "A1.forward(Z1.Z)\n",
    "    \n",
    "Z2.forward(A1.A)\n",
    "A2.forward(Z2.Z)\n",
    "    \n",
    "Z3.forward(A2.A)\n",
    "A3.forward(Z3.Z)"
   ]
  },
  {
   "cell_type": "code",
   "execution_count": 80,
   "metadata": {},
   "outputs": [
    {
     "name": "stdout",
     "output_type": "stream",
     "text": [
      "Test Accuracy :  63.952225841476654\n"
     ]
    }
   ],
   "source": [
    "print(\"Test Accuracy : \",accuracy(Y_test, A3.A)*100)"
   ]
  },
  {
   "cell_type": "code",
   "execution_count": 81,
   "metadata": {},
   "outputs": [
    {
     "name": "stdout",
     "output_type": "stream",
     "text": [
      "Test Loss :  0.6658268904603042\n"
     ]
    }
   ],
   "source": [
    "print(\"Test Loss : \",compute_cost(Y_test, A3.A)[0])"
   ]
  },
  {
   "cell_type": "code",
   "execution_count": null,
   "metadata": {},
   "outputs": [],
   "source": []
  }
 ],
 "metadata": {
  "kernelspec": {
   "display_name": "Python 3",
   "language": "python",
   "name": "python3"
  },
  "language_info": {
   "codemirror_mode": {
    "name": "ipython",
    "version": 3
   },
   "file_extension": ".py",
   "mimetype": "text/x-python",
   "name": "python",
   "nbconvert_exporter": "python",
   "pygments_lexer": "ipython3",
   "version": "3.7.6"
  }
 },
 "nbformat": 4,
 "nbformat_minor": 4
}
