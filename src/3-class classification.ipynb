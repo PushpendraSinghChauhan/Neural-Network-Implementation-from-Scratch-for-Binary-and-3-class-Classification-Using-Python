{
 "cells": [
  {
   "cell_type": "code",
   "execution_count": 1,
   "metadata": {},
   "outputs": [],
   "source": [
    "import numpy as np\n",
    "from keras.datasets import cifar10\n",
    "from keras.utils import to_categorical\n",
    "import warnings\n",
    "warnings.filterwarnings('ignore')"
   ]
  },
  {
   "cell_type": "code",
   "execution_count": 2,
   "metadata": {},
   "outputs": [
    {
     "name": "stdout",
     "output_type": "stream",
     "text": [
      "Shape of train_images :  (50000, 32, 32, 3)\n",
      "Shape of train_labels :  (50000, 1)\n",
      "Shape of test_images :  (10000, 32, 32, 3)\n",
      "Shape of test_labels :  (10000, 1)\n"
     ]
    }
   ],
   "source": [
    "# load data\n",
    "(train_images, train_labels), (test_images, test_labels) = cifar10.load_data()\n",
    "\n",
    "\n",
    "print(\"Shape of train_images : \",train_images.shape)\n",
    "print(\"Shape of train_labels : \",train_labels.shape)\n",
    "print(\"Shape of test_images : \",test_images.shape)\n",
    "print(\"Shape of test_labels : \",test_labels.shape)"
   ]
  },
  {
   "cell_type": "code",
   "execution_count": 3,
   "metadata": {},
   "outputs": [],
   "source": [
    "# Selecting subset of three classes (0,1,2) from train and test data\n",
    "train_index_list = []\n",
    "test_index_list = []\n",
    "for i in range(train_labels.shape[0]):\n",
    "    if(train_labels[i,0] in [0,1,2]):\n",
    "        train_index_list.append(i)\n",
    "        \n",
    "for i in range(test_labels.shape[0]):\n",
    "    if(test_labels[i,0] in [0,1,2]):\n",
    "        test_index_list.append(i)\n",
    "        \n",
    "subset_train_images = []\n",
    "subset_train_labels = []\n",
    "subset_test_images = []\n",
    "subset_test_labels = []\n",
    "\n",
    "for i in train_index_list:\n",
    "    subset_train_images.append(train_images[i])\n",
    "    subset_train_labels.append(train_labels[i,0])\n",
    "\n",
    "for i in test_index_list:\n",
    "    subset_test_images.append(test_images[i])\n",
    "    subset_test_labels.append(test_labels[i,0])  "
   ]
  },
  {
   "cell_type": "code",
   "execution_count": 4,
   "metadata": {},
   "outputs": [
    {
     "name": "stdout",
     "output_type": "stream",
     "text": [
      "Shape of subset train_images :  (13000, 32, 32, 3)\n",
      "Shape of subset train_labels :  (13000,)\n",
      "Shape of subset validation_images :  (2000, 32, 32, 3)\n",
      "Shape of subset validation_labels :  (2000,)\n",
      "Shape of subset test_images :  (3000, 32, 32, 3)\n",
      "Shape of subset test_labels :  (3000,)\n"
     ]
    }
   ],
   "source": [
    "subset_train_images = np.array(subset_train_images)\n",
    "subset_train_labels = np.array(subset_train_labels)\n",
    "subset_test_images = np.array(subset_test_images)\n",
    "subset_test_labels = np.array(subset_test_labels)\n",
    "\n",
    "# train and validation split\n",
    "final_train_images = subset_train_images[:13000]\n",
    "final_train_labels = subset_train_labels[:13000]\n",
    "\n",
    "final_validation_images = subset_train_images[13000:]\n",
    "final_validation_labels = subset_train_labels[13000:]\n",
    "\n",
    "print(\"Shape of subset train_images : \",final_train_images.shape)\n",
    "print(\"Shape of subset train_labels : \",final_train_labels.shape)\n",
    "print(\"Shape of subset validation_images : \",final_validation_images.shape)\n",
    "print(\"Shape of subset validation_labels : \",final_validation_labels.shape)\n",
    "print(\"Shape of subset test_images : \",subset_test_images.shape)\n",
    "print(\"Shape of subset test_labels : \",subset_test_labels.shape)"
   ]
  },
  {
   "cell_type": "code",
   "execution_count": 5,
   "metadata": {},
   "outputs": [],
   "source": [
    "# Convert labels to categorical\n",
    "train_labels_categorical = to_categorical(final_train_labels)\n",
    "validation_labels_categorical = to_categorical(final_validation_labels)\n",
    "test_labels_categorical = to_categorical(subset_test_labels)\n",
    "\n",
    "# Vectorize the images\n",
    "train_images = final_train_images.reshape((13000, 32* 32*3))\n",
    "train_images = train_images.astype('float32') / 255\n",
    "validation_images = final_validation_images.reshape((2000, 32*32*3))\n",
    "validation_images = validation_images.astype('float32') / 255\n",
    "test_images = subset_test_images.reshape((3000, 32*32*3))\n",
    "test_images = test_images.astype('float32') / 255"
   ]
  },
  {
   "cell_type": "code",
   "execution_count": 6,
   "metadata": {},
   "outputs": [],
   "source": [
    "# This class includes y = W0+W1*X1+W2*X2\n",
    "class LinearLayer:\n",
    "    \"\"\"\n",
    "        This Class implements all functions to be executed by a linear layer\n",
    "        in a computational graph\n",
    "        Args:\n",
    "            input_shape: input shape of Data/Activations\n",
    "            n_out: number of neurons in layer\n",
    "            ini_type: initialization type for weight parameters, default is \"plain\"\n",
    "                      Opitons are: plain, xavier and he\n",
    "        Methods:\n",
    "            forward(A_prev)\n",
    "            backward(upstream_grad)\n",
    "            update_params(learning_rate)\n",
    "    \"\"\"\n",
    "\n",
    "    def __init__(self, input_shape, n_out):\n",
    "        \"\"\"\n",
    "        The constructor of the LinearLayer takes the following parameters\n",
    "        Args:\n",
    "            input_shape: input shape of Data/Activations\n",
    "            n_out: number of neurons in layer\n",
    "            ini_type: initialization type for weight parameters, default is \"plain\"\n",
    "        \"\"\"\n",
    "\n",
    "        self.m = input_shape[1]  # number of examples in training data\n",
    "        # `params` store weights and bias in a python dictionary\n",
    "        self.params = {'W': np.random.randn(input_shape[1], n_out), 'b': np.random.randn(n_out)}  # initialize weights and bias\n",
    "        self.Z = np.zeros((input_shape[0], n_out))  # create space for resultant Z output\n",
    "\n",
    "    def forward(self, A_prev):\n",
    "        \"\"\"\n",
    "        This function performs the forwards propagation using activations from previous layer\n",
    "        Args:\n",
    "            A_prev:  Activations/Input Data coming into the layer from previous layer\n",
    "        \"\"\"\n",
    "\n",
    "        self.A_prev = A_prev  # store the Activations/Training Data coming in\n",
    "        self.Z = np.dot( self.A_prev, self.params['W']) + self.params['b']  # compute the linear function\n",
    "\n",
    "    def backward(self, upstream_grad):\n",
    "        \"\"\"\n",
    "        This function performs the back propagation using upstream gradients\n",
    "        Args:\n",
    "            upstream_grad: gradient coming in from the upper layer to couple with local gradient\n",
    "        \"\"\"\n",
    "\n",
    "        # derivative of Cost w.r.t W\n",
    "        self.dW = np.dot(self.A_prev.T, upstream_grad)\n",
    "\n",
    "        # derivative of Cost w.r.t b, sum across rows\n",
    "        self.db = np.sum(upstream_grad, axis=0, keepdims=True)\n",
    "\n",
    "        # derivative of Cost w.r.t A_prev\n",
    "        self.dA_prev = np.dot(upstream_grad, self.params['W'].T)\n",
    "\n",
    "    def update_params(self, learning_rate=0.1):\n",
    "        \"\"\"\n",
    "        This function performs the gradient descent update\n",
    "        Args:\n",
    "            learning_rate: learning rate hyper-param for gradient descent, default 0.1\n",
    "        \"\"\"\n",
    "\n",
    "        self.params['W'] = self.params['W'] - learning_rate * self.dW  # update weights\n",
    "        self.params['b'] = self.params['b'] - learning_rate * self.db  # update bias(es)\n",
    "    "
   ]
  },
  {
   "cell_type": "code",
   "execution_count": 7,
   "metadata": {},
   "outputs": [],
   "source": [
    "class SigmoidLayer:\n",
    "    \"\"\"\n",
    "    This file implements activation layers\n",
    "    inline with a computational graph model\n",
    "    Args:\n",
    "        shape: shape of input to the layer\n",
    "    Methods:\n",
    "        forward(Z)\n",
    "        backward(upstream_grad)\n",
    "    \"\"\"\n",
    "\n",
    "    def __init__(self, shape):\n",
    "        \"\"\"\n",
    "        The consturctor of the sigmoid/logistic activation layer takes in the following arguments\n",
    "        Args:\n",
    "            shape: shape of input to the layer\n",
    "        \"\"\"\n",
    "        self.A = np.zeros(shape)  # create space for the resultant activations\n",
    "\n",
    "    def forward(self, Z):\n",
    "        \"\"\"\n",
    "        This function performs the forwards propagation step through the activation function\n",
    "        Args:\n",
    "            Z: input from previous (linear) layer\n",
    "        \"\"\"\n",
    "        self.A = 1 / (1 + np.exp(-Z))  # compute activations\n",
    "\n",
    "    def backward(self, upstream_grad):\n",
    "        \"\"\"\n",
    "        This function performs the  back propagation step through the activation function\n",
    "        Local gradient => derivative of sigmoid => A*(1-A)\n",
    "        Args:\n",
    "            upstream_grad: gradient coming into this layer from the layer above\n",
    "        \"\"\"\n",
    "        # couple upstream gradient with local gradient, the result will be sent back to the Linear layer\n",
    "        self.dZ = upstream_grad * self.A*(1-self.A)"
   ]
  },
  {
   "cell_type": "code",
   "execution_count": 8,
   "metadata": {},
   "outputs": [],
   "source": [
    "class SoftmaxLayer:\n",
    "    \"\"\"\n",
    "    This file implements activation layers\n",
    "    inline with a computational graph model\n",
    "    Args:\n",
    "        shape: shape of input to the layer\n",
    "    Methods:\n",
    "        forward(Z)\n",
    "        backward(upstream_grad)\n",
    "    \"\"\"\n",
    "\n",
    "    def __init__(self, shape):\n",
    "        \"\"\"\n",
    "        The consturctor of the sigmoid/logistic activation layer takes in the following arguments\n",
    "        Args:\n",
    "            shape: shape of input to the layer\n",
    "        \"\"\"\n",
    "        self.A = np.zeros(shape)  # create space for the resultant activations\n",
    "\n",
    "    def forward(self, Z):\n",
    "        \"\"\"\n",
    "        This function performs the forwards propagation step through the activation function\n",
    "        Args:\n",
    "            Z: input from previous (linear) layer\n",
    "        \"\"\"\n",
    "        self.A = np.exp(Z) / np.sum(np.exp(Z), axis=1)[:, None]  # compute activations\n",
    "\n",
    "    def backward(self, upstream_grad):\n",
    "        \"\"\"\n",
    "        This function performs the  back propagation step through the activation function\n",
    "        Local gradient => derivative of sigmoid => A*(1-A)\n",
    "        Args:\n",
    "            upstream_grad: gradient coming into this layer from the layer above\n",
    "        \"\"\"\n",
    "        # couple upstream gradient with local gradient, the result will be sent back to the Linear layer\n",
    "        self.dZ = upstream_grad * self.A*(1-self.A)"
   ]
  },
  {
   "cell_type": "code",
   "execution_count": 9,
   "metadata": {},
   "outputs": [],
   "source": [
    "def compute_cost(Y, Y_hat):\n",
    "    \"\"\"\n",
    "    This function computes and returns the Cost and its derivative.\n",
    "    The is function uses the categorical cross-entropy loss ->\n",
    "    Args:\n",
    "        Y: labels of data\n",
    "        Y_hat: Predictions(activations) from a last layer, the output layer\n",
    "    Returns:\n",
    "        cost: Binary cross-entropy loss\n",
    "        dY_hat: gradient of Cost w.r.t the Y_hat\n",
    "    \"\"\"\n",
    "    # Adding small number to avoid zero value in log function\n",
    "    epsilon = 10**-8\n",
    "    m = Y.shape[0]\n",
    "    cost = 0\n",
    "    # Adding epsilon = 1e^-8 to Y_hat\n",
    "    Y_hat = Y_hat+epsilon\n",
    "    \n",
    "    # Categorical cross-entropy\n",
    "    for true_arr, pred_arr in zip(Y, Y_hat):\n",
    "        for true,pred in zip(true_arr, pred_arr):\n",
    "            cost += (-true * np.log(pred+epsilon) )\n",
    "    cost = (np.squeeze(cost)/m)  # remove extraneous dimensions to give just a scalar\n",
    "\n",
    "    dY_hat = 0\n",
    "    for true_arr, pred_arr in zip(Y, Y_hat):\n",
    "        for true,pred in zip(true_arr, pred_arr):\n",
    "            dY_hat += (-(true/(true-pred+epsilon)))\n",
    "    dY_hat = -np.squeeze(dY_hat)/m\n",
    "    \n",
    "    # Gradient clipping for exploding gradient\n",
    "    while(dY_hat > 10 or dY_hat < -10):\n",
    "        dY_hat /= 10\n",
    "\n",
    "    return cost, dY_hat"
   ]
  },
  {
   "cell_type": "code",
   "execution_count": 10,
   "metadata": {},
   "outputs": [],
   "source": [
    "# Evaluation function : accuracy\n",
    "def accuracy(Y, Y_hat):\n",
    "    m = Y.shape[0]\n",
    "    true_pred_count = 0\n",
    "    for true,pred in zip(np.argmax(Y,axis=1), np.argmax(Y_hat,axis=1)):\n",
    "        if(true == pred):\n",
    "            true_pred_count += 1\n",
    "    return (true_pred_count/m)        "
   ]
  },
  {
   "cell_type": "markdown",
   "metadata": {},
   "source": [
    "#### Design the network with two hidden layers and 1 output layer :"
   ]
  },
  {
   "cell_type": "code",
   "execution_count": 11,
   "metadata": {},
   "outputs": [],
   "source": [
    "# Our network architecture has the shape: \n",
    "#                   (input)--> [Linear->Sigmoid] -> [Linear->Sigmoid] --> [Linear->Softmax] -->(output)  \n",
    "\n",
    "#------ LAYER-1 ----- define 1st hidden layer that takes in training data \n",
    "Z1 = LinearLayer(input_shape=train_images.shape, n_out=100)\n",
    "A1 = SigmoidLayer(Z1.Z.shape)\n",
    "\n",
    "#------ LAYER-2 ----- define 2nd hidden layer that take its values from hidden layer\n",
    "Z2= LinearLayer(input_shape=A1.A.shape, n_out=100)\n",
    "A2= SigmoidLayer(Z2.Z.shape)\n",
    "\n",
    "#------ LAYER-3 ----- define output layer that take its values from hidden layer\n",
    "Z3= LinearLayer(input_shape=A2.A.shape, n_out=3)\n",
    "A3= SoftmaxLayer(Z3.Z.shape)"
   ]
  },
  {
   "cell_type": "code",
   "execution_count": 12,
   "metadata": {},
   "outputs": [
    {
     "name": "stdout",
     "output_type": "stream",
     "text": [
      "Epoch#0: Train_loss = 6.10271; Train_accuracy = 0.33077; Val_loss = 5.88716; Val_accuracy = 0.33450\n",
      "Epoch#10: Train_loss = 5.58636; Train_accuracy = 0.33077; Val_loss = 5.42198; Val_accuracy = 0.33400\n",
      "Epoch#20: Train_loss = 5.22321; Train_accuracy = 0.33108; Val_loss = 5.08653; Val_accuracy = 0.33350\n",
      "Epoch#30: Train_loss = 4.92776; Train_accuracy = 0.33131; Val_loss = 4.81094; Val_accuracy = 0.33300\n",
      "Epoch#40: Train_loss = 4.67200; Train_accuracy = 0.33138; Val_loss = 4.57054; Val_accuracy = 0.33100\n",
      "Epoch#50: Train_loss = 4.44562; Train_accuracy = 0.33123; Val_loss = 4.35621; Val_accuracy = 0.33050\n",
      "Epoch#60: Train_loss = 4.24455; Train_accuracy = 0.33138; Val_loss = 4.16456; Val_accuracy = 0.32900\n",
      "Epoch#70: Train_loss = 4.06634; Train_accuracy = 0.33231; Val_loss = 3.99362; Val_accuracy = 0.32950\n",
      "Epoch#80: Train_loss = 3.77582; Train_accuracy = 0.33477; Val_loss = 3.59784; Val_accuracy = 0.33100\n",
      "Epoch#90: Train_loss = 2.96290; Train_accuracy = 0.34600; Val_loss = 2.87262; Val_accuracy = 0.34950\n",
      "Epoch#100: Train_loss = 2.63930; Train_accuracy = 0.36077; Val_loss = 2.56812; Val_accuracy = 0.36000\n",
      "Epoch#110: Train_loss = 2.11699; Train_accuracy = 0.39408; Val_loss = 2.04193; Val_accuracy = 0.39650\n",
      "Epoch#120: Train_loss = 1.98345; Train_accuracy = 0.40085; Val_loss = 1.94090; Val_accuracy = 0.39500\n",
      "Epoch#130: Train_loss = 1.93721; Train_accuracy = 0.40246; Val_loss = 1.91042; Val_accuracy = 0.39600\n",
      "Epoch#140: Train_loss = 1.91421; Train_accuracy = 0.40154; Val_loss = 1.89692; Val_accuracy = 0.39900\n",
      "Epoch#150: Train_loss = 1.90048; Train_accuracy = 0.40077; Val_loss = 1.88916; Val_accuracy = 0.40200\n",
      "Epoch#160: Train_loss = 1.89086; Train_accuracy = 0.40008; Val_loss = 1.88323; Val_accuracy = 0.39800\n",
      "Epoch#170: Train_loss = 1.88306; Train_accuracy = 0.39954; Val_loss = 1.87738; Val_accuracy = 0.39300\n",
      "Epoch#180: Train_loss = 1.87596; Train_accuracy = 0.39815; Val_loss = 1.87091; Val_accuracy = 0.38750\n",
      "Epoch#190: Train_loss = 1.86892; Train_accuracy = 0.39646; Val_loss = 1.86361; Val_accuracy = 0.38900\n",
      "Epoch#200: Train_loss = 1.86147; Train_accuracy = 0.39485; Val_loss = 1.85536; Val_accuracy = 0.38750\n"
     ]
    }
   ],
   "source": [
    "# define training constants\n",
    "learning_rate = 0.000001\n",
    "number_of_epochs = 201\n",
    "\n",
    "train_loss = []# initially empty list, this will store all the costs after a certian number of epochs\n",
    "train_accuracy = []\n",
    "val_loss = []\n",
    "val_accuracy = []\n",
    "\n",
    "# Start training\n",
    "for epoch in range(number_of_epochs):\n",
    "    \n",
    "    # ------------------------- forward-pass -------------------------\n",
    "    Z1.forward(train_images)\n",
    "    A1.forward(Z1.Z)\n",
    "    \n",
    "    Z2.forward(A1.A)\n",
    "    A2.forward(Z2.Z)\n",
    "    \n",
    "    Z3.forward(A2.A)\n",
    "    A3.forward(Z3.Z)    \n",
    "    \n",
    "    # ---------------------- Compute Cost ----------------------------\n",
    "    cost, dA3 = compute_cost(Y=train_labels_categorical, Y_hat=A3.A)\n",
    "    # Train accuracy\n",
    "    acc = accuracy(train_labels_categorical, A3.A)\n",
    "    #print(dA3)\n",
    "    \n",
    "    # ------------------------- backward-pass ----------------------------\n",
    "    A3.backward(dA3)\n",
    "\n",
    "    Z3.backward(A3.dZ)\n",
    "    \n",
    "    A2.backward(Z3.dA_prev)\n",
    "\n",
    "    Z2.backward(A2.dZ)\n",
    "\n",
    "    A1.backward(Z2.dA_prev)\n",
    "\n",
    "    Z1.backward(A1.dZ)\n",
    "    \n",
    "    # ----------------------- Update weights and bias ----------------\n",
    "    Z3.update_params(learning_rate=learning_rate)\n",
    "    Z2.update_params(learning_rate=learning_rate)\n",
    "    Z1.update_params(learning_rate=learning_rate)\n",
    "    \n",
    "    # Validation data\n",
    "    # ------------------------- forward-pass -------------------------\n",
    "    Z1.forward(validation_images)\n",
    "    A1.forward(Z1.Z)\n",
    "    \n",
    "    Z2.forward(A1.A)\n",
    "    A2.forward(Z2.Z)\n",
    "    \n",
    "    Z3.forward(A2.A)\n",
    "    A3.forward(Z3.Z)    \n",
    "    \n",
    "    # ---------------------- Compute Cost ----------------------------\n",
    "    val_cost, dA3 = compute_cost(Y=validation_labels_categorical, Y_hat=A3.A)\n",
    "    # Validation accuracy\n",
    "    val_acc = accuracy(validation_labels_categorical, A3.A)    \n",
    "    \n",
    "\n",
    "    # print and store Costs every 10 iterations.\n",
    "    if (epoch % 10) == 0:\n",
    "        #print(\"Cost at epoch#\" + str(epoch) + \": \" + str(cost))\n",
    "        \n",
    "        \n",
    "        print(\"Epoch#{0}: Train_loss = {1:.5f}; Train_accuracy = {2:.5f}; Val_loss = {3:.5f}; Val_accuracy = {4:.5f}\".format(epoch, cost,acc,val_cost,val_acc))\n",
    "        #print(dA3)\n",
    "        \n",
    "        #print(A3.A[0:10])\n",
    "        train_loss.append(cost)\n",
    "        train_accuracy.append(acc)\n",
    "        val_loss.append(val_cost)\n",
    "        val_accuracy.append(val_acc)"
   ]
  },
  {
   "cell_type": "markdown",
   "metadata": {},
   "source": [
    "#### Plot the training and validation loss as a function of epochs. Plot the training and validation accuracy as a function of epochs"
   ]
  },
  {
   "cell_type": "code",
   "execution_count": 14,
   "metadata": {},
   "outputs": [
    {
     "data": {
      "image/png": "[encoded data removed]",
      "text/plain": [
       "<Figure size 432x288 with 1 Axes>"
      ]
     },
     "metadata": {
      "needs_background": "light"
     },
     "output_type": "display_data"
    },
    {
     "data": {
      "image/png": "[encoded data removed]",
      "text/plain": [
       "<Figure size 432x288 with 1 Axes>"
      ]
     },
     "metadata": {
      "needs_background": "light"
     },
     "output_type": "display_data"
    }
   ],
   "source": [
    "import matplotlib.pyplot as plt\n",
    "\n",
    "epochs = range(0, 201, 10)\n",
    "\n",
    "# Plot loss plot \n",
    "plt.plot(epochs, train_loss, 'bo', label='Training loss')\n",
    "plt.plot(epochs, val_loss, 'b', label='Validation loss')\n",
    "plt.title('Training and Validation Loss')\n",
    "plt.xlabel('Epochs')\n",
    "plt.ylabel('Loss')\n",
    "plt.legend()\n",
    "plt.show()\n",
    "\n",
    "# Plot accuracy plot \n",
    "plt.plot(epochs, train_accuracy, 'ro', label='Training accuracy')\n",
    "plt.plot(epochs, val_accuracy, 'r', label='Validation accuracy')\n",
    "plt.title('Training and Validation accuracy')\n",
    "plt.xlabel('Epochs')\n",
    "plt.ylabel('Accuracy')\n",
    "plt.legend()\n",
    "plt.show()"
   ]
  },
  {
   "cell_type": "markdown",
   "metadata": {},
   "source": [
    "#### Evaluating on the test data :"
   ]
  },
  {
   "cell_type": "code",
   "execution_count": 15,
   "metadata": {},
   "outputs": [],
   "source": [
    "# Making predictions on test data\n",
    "# ------------------------- forward-pass -------------------------\n",
    "Z1.forward(test_images)\n",
    "A1.forward(Z1.Z)\n",
    "    \n",
    "Z2.forward(A1.A)\n",
    "A2.forward(Z2.Z)\n",
    "    \n",
    "Z3.forward(A2.A)\n",
    "A3.forward(Z3.Z)"
   ]
  },
  {
   "cell_type": "code",
   "execution_count": 16,
   "metadata": {},
   "outputs": [
    {
     "name": "stdout",
     "output_type": "stream",
     "text": [
      "Test Accuracy :  38.4\n"
     ]
    }
   ],
   "source": [
    "print(\"Test Accuracy : \",accuracy(test_labels_categorical, A3.A)*100)"
   ]
  },
  {
   "cell_type": "code",
   "execution_count": 18,
   "metadata": {},
   "outputs": [
    {
     "name": "stdout",
     "output_type": "stream",
     "text": [
      "Test Loss :  1.8777535310570248\n"
     ]
    }
   ],
   "source": [
    "print(\"Test Loss : \",compute_cost(test_labels_categorical, A3.A)[0])"
   ]
  },
  {
   "cell_type": "code",
   "execution_count": null,
   "metadata": {},
   "outputs": [],
   "source": []
  }
 ],
 "metadata": {
  "kernelspec": {
   "display_name": "Python 3",
   "language": "python",
   "name": "python3"
  },
  "language_info": {
   "codemirror_mode": {
    "name": "ipython",
    "version": 3
   },
   "file_extension": ".py",
   "mimetype": "text/x-python",
   "name": "python",
   "nbconvert_exporter": "python",
   "pygments_lexer": "ipython3",
   "version": "3.7.6"
  }
 },
 "nbformat": 4,
 "nbformat_minor": 4
}
